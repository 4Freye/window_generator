{
 "cells": [
  {
   "cell_type": "code",
   "execution_count": 1,
   "metadata": {},
   "outputs": [],
   "source": [
    "import pandas as pd\n",
    "import numpy as np\n",
    "from window_generator import WindowGenerator\n",
    "from string import ascii_uppercase"
   ]
  },
  {
   "cell_type": "markdown",
   "metadata": {},
   "source": [
    "Here we generate a dataframe of panel data, with a number of countries and a number of timesteps."
   ]
  },
  {
   "cell_type": "code",
   "execution_count": 2,
   "metadata": {},
   "outputs": [
    {
     "name": "stdout",
     "output_type": "stream",
     "text": [
      "Number of observations: 300\n",
      "Number of countries: 3\n",
      "Number of timesteps: 100\n",
      "Proportion of events: 0.223\n"
     ]
    },
    {
     "data": {
      "text/html": [
       "<div>\n",
       "<style scoped>\n",
       "    .dataframe tbody tr th:only-of-type {\n",
       "        vertical-align: middle;\n",
       "    }\n",
       "\n",
       "    .dataframe tbody tr th {\n",
       "        vertical-align: top;\n",
       "    }\n",
       "\n",
       "    .dataframe thead th {\n",
       "        text-align: right;\n",
       "    }\n",
       "</style>\n",
       "<table border=\"1\" class=\"dataframe\">\n",
       "  <thead>\n",
       "    <tr style=\"text-align: right;\">\n",
       "      <th></th>\n",
       "      <th>country</th>\n",
       "      <th>time</th>\n",
       "      <th>event</th>\n",
       "      <th>proba_event</th>\n",
       "    </tr>\n",
       "  </thead>\n",
       "  <tbody>\n",
       "    <tr>\n",
       "      <th>0</th>\n",
       "      <td>A</td>\n",
       "      <td>0</td>\n",
       "      <td>0</td>\n",
       "      <td>0.448534</td>\n",
       "    </tr>\n",
       "    <tr>\n",
       "      <th>1</th>\n",
       "      <td>A</td>\n",
       "      <td>1</td>\n",
       "      <td>0</td>\n",
       "      <td>0.440366</td>\n",
       "    </tr>\n",
       "    <tr>\n",
       "      <th>2</th>\n",
       "      <td>A</td>\n",
       "      <td>2</td>\n",
       "      <td>0</td>\n",
       "      <td>0.532204</td>\n",
       "    </tr>\n",
       "    <tr>\n",
       "      <th>3</th>\n",
       "      <td>A</td>\n",
       "      <td>3</td>\n",
       "      <td>0</td>\n",
       "      <td>0.758432</td>\n",
       "    </tr>\n",
       "    <tr>\n",
       "      <th>4</th>\n",
       "      <td>A</td>\n",
       "      <td>4</td>\n",
       "      <td>0</td>\n",
       "      <td>0.375907</td>\n",
       "    </tr>\n",
       "  </tbody>\n",
       "</table>\n",
       "</div>"
      ],
      "text/plain": [
       "  country  time  event  proba_event\n",
       "0       A     0      0     0.448534\n",
       "1       A     1      0     0.440366\n",
       "2       A     2      0     0.532204\n",
       "3       A     3      0     0.758432\n",
       "4       A     4      0     0.375907"
      ]
     },
     "metadata": {},
     "output_type": "display_data"
    }
   ],
   "source": [
    "n_countries = 3 # Number of countries can be up to 26, based on the number of letters in the alphabet. \n",
    "n_timesteps = 100\n",
    "\n",
    "country = [c for c in ascii_uppercase[:n_countries]]\n",
    "time = range(n_timesteps)\n",
    "\n",
    "idx = pd.MultiIndex.from_product([country,  time], names=['country','time'])\n",
    "\n",
    "np.random.seed(1)\n",
    "\n",
    "# Generate event occurrence (80% chance of 0, 20% chance of 1)\n",
    "event_occurrence = np.random.choice(a=[0, 1], size=(n_countries * n_timesteps), p=[0.8, 0.2])\n",
    "\n",
    "# Generate propensity scores based on event occurrence\n",
    "propensity_scores = np.where(\n",
    "    event_occurrence == 0, \n",
    "    np.random.normal(loc=0.4, scale=0.2, size=(n_countries * n_timesteps)),\n",
    "    np.random.normal(loc=0.6, scale=0.2, size=(n_countries * n_timesteps))\n",
    ")\n",
    "\n",
    "# Clip propensity scores to be between 0.01 and 0.99\n",
    "propensity_scores = np.clip(propensity_scores, 0.01, 0.99)\n",
    "\n",
    "df = pd.DataFrame({'event':event_occurrence, 'proba_event':propensity_scores}, index = idx).reset_index()\n",
    "\n",
    "print(f'Number of observations: {df.shape[0]}') \n",
    "print(f'Number of countries: {df['country'].nunique()}') \n",
    "print(f'Number of timesteps: {df['time'].nunique()}')\n",
    "print(f'Proportion of events: {df.event.mean().round(3)}')\n",
    "display(df.head())"
   ]
  },
  {
   "cell_type": "markdown",
   "metadata": {},
   "source": [
    "As you can see from the displayed dataframe above, columns `country` and `time` are the unit and time columns for our panel data respectively. The remaining columns are `event` and `proba_event`. `event` indicates whether or not there is an event and `proba_event` indicates the propensity score of the event occurring.\n",
    "\n",
    "`proba_event` is distributed differently based on whether or not an event occurred. As you can see, events generally have a higher propensity score than when events didn't occur:"
   ]
  },
  {
   "cell_type": "code",
   "execution_count": 3,
   "metadata": {},
   "outputs": [
    {
     "data": {
      "text/plain": [
       "<Axes: xlabel='proba_event', ylabel='Percent'>"
      ]
     },
     "execution_count": 3,
     "metadata": {},
     "output_type": "execute_result"
    },
    {
     "data": {
      "image/png": "[encoded data removed]",
      "text/plain": [
       "<Figure size 640x480 with 1 Axes>"
      ]
     },
     "metadata": {},
     "output_type": "display_data"
    }
   ],
   "source": [
    "import seaborn as sns\n",
    "sns.histplot(df, x= 'proba_event', hue='event', common_norm=False, stat='percent')"
   ]
  },
  {
   "cell_type": "markdown",
   "metadata": {},
   "source": [
    "# WindowGenerator\n",
    "\n",
    "WindowGenerator lets us:\n",
    "1. Sample windows around events (treatment windows)\n",
    "2. Generate matching control windows\n",
    "\n",
    "Let's see it in action."
   ]
  },
  {
   "cell_type": "markdown",
   "metadata": {},
   "source": [
    "## Sample treatment windows\n",
    "\n",
    "Here we generate a treatment dataframe, based on our parameters we initialized."
   ]
  },
  {
   "cell_type": "code",
   "execution_count": 4,
   "metadata": {},
   "outputs": [],
   "source": [
    "from window_generator import WindowGenerator\n",
    "\n",
    "# We initialize it with some parameters\n",
    "frame_size = 5\n",
    "wg = WindowGenerator(DataFrame=df, \n",
    "                unit_column='country', \n",
    "                time_column='time', \n",
    "                treatment_column='event', \n",
    "                matching_column='proba_event', \n",
    "                frame_size=frame_size,\n",
    "                buffer_size=0,\n",
    "                method='nn_propensity_score')\n",
    "\n",
    "wg.gen_treatment_windows()"
   ]
  },
  {
   "cell_type": "markdown",
   "metadata": {},
   "source": [
    "Let's take a look at the treatment dataframe we've generated, called `wg.treated_windows`"
   ]
  },
  {
   "cell_type": "code",
   "execution_count": 5,
   "metadata": {},
   "outputs": [
    {
     "data": {
      "text/html": [
       "<div>\n",
       "<style scoped>\n",
       "    .dataframe tbody tr th:only-of-type {\n",
       "        vertical-align: middle;\n",
       "    }\n",
       "\n",
       "    .dataframe tbody tr th {\n",
       "        vertical-align: top;\n",
       "    }\n",
       "\n",
       "    .dataframe thead th {\n",
       "        text-align: right;\n",
       "    }\n",
       "</style>\n",
       "<table border=\"1\" class=\"dataframe\">\n",
       "  <thead>\n",
       "    <tr style=\"text-align: right;\">\n",
       "      <th></th>\n",
       "      <th>country</th>\n",
       "      <th>time</th>\n",
       "      <th>event</th>\n",
       "      <th>proba_event</th>\n",
       "      <th>max_time_by_unit</th>\n",
       "      <th>since_treatment</th>\n",
       "      <th>until_treatment</th>\n",
       "      <th>since_treatment_1</th>\n",
       "      <th>until_treatment_-1</th>\n",
       "      <th>window_id</th>\n",
       "      <th>window_t</th>\n",
       "    </tr>\n",
       "  </thead>\n",
       "  <tbody>\n",
       "    <tr>\n",
       "      <th>0</th>\n",
       "      <td>A</td>\n",
       "      <td>8</td>\n",
       "      <td>0</td>\n",
       "      <td>0.065161</td>\n",
       "      <td>99</td>\n",
       "      <td>9</td>\n",
       "      <td>5.0</td>\n",
       "      <td>8.0</td>\n",
       "      <td>4.0</td>\n",
       "      <td>0.239411</td>\n",
       "      <td>-5</td>\n",
       "    </tr>\n",
       "    <tr>\n",
       "      <th>1</th>\n",
       "      <td>A</td>\n",
       "      <td>9</td>\n",
       "      <td>0</td>\n",
       "      <td>0.565006</td>\n",
       "      <td>99</td>\n",
       "      <td>10</td>\n",
       "      <td>4.0</td>\n",
       "      <td>9.0</td>\n",
       "      <td>3.0</td>\n",
       "      <td>0.239411</td>\n",
       "      <td>-4</td>\n",
       "    </tr>\n",
       "    <tr>\n",
       "      <th>2</th>\n",
       "      <td>A</td>\n",
       "      <td>10</td>\n",
       "      <td>0</td>\n",
       "      <td>0.300357</td>\n",
       "      <td>99</td>\n",
       "      <td>11</td>\n",
       "      <td>3.0</td>\n",
       "      <td>10.0</td>\n",
       "      <td>2.0</td>\n",
       "      <td>0.239411</td>\n",
       "      <td>-3</td>\n",
       "    </tr>\n",
       "    <tr>\n",
       "      <th>3</th>\n",
       "      <td>A</td>\n",
       "      <td>11</td>\n",
       "      <td>0</td>\n",
       "      <td>0.337803</td>\n",
       "      <td>99</td>\n",
       "      <td>12</td>\n",
       "      <td>2.0</td>\n",
       "      <td>11.0</td>\n",
       "      <td>1.0</td>\n",
       "      <td>0.239411</td>\n",
       "      <td>-2</td>\n",
       "    </tr>\n",
       "    <tr>\n",
       "      <th>4</th>\n",
       "      <td>A</td>\n",
       "      <td>12</td>\n",
       "      <td>0</td>\n",
       "      <td>0.399622</td>\n",
       "      <td>99</td>\n",
       "      <td>13</td>\n",
       "      <td>1.0</td>\n",
       "      <td>12.0</td>\n",
       "      <td>0.0</td>\n",
       "      <td>0.239411</td>\n",
       "      <td>-1</td>\n",
       "    </tr>\n",
       "    <tr>\n",
       "      <th>5</th>\n",
       "      <td>A</td>\n",
       "      <td>13</td>\n",
       "      <td>1</td>\n",
       "      <td>0.802764</td>\n",
       "      <td>99</td>\n",
       "      <td>0</td>\n",
       "      <td>0.0</td>\n",
       "      <td>13.0</td>\n",
       "      <td>6.0</td>\n",
       "      <td>0.239411</td>\n",
       "      <td>0</td>\n",
       "    </tr>\n",
       "    <tr>\n",
       "      <th>6</th>\n",
       "      <td>A</td>\n",
       "      <td>14</td>\n",
       "      <td>0</td>\n",
       "      <td>0.227737</td>\n",
       "      <td>99</td>\n",
       "      <td>1</td>\n",
       "      <td>6.0</td>\n",
       "      <td>0.0</td>\n",
       "      <td>5.0</td>\n",
       "      <td>0.239411</td>\n",
       "      <td>1</td>\n",
       "    </tr>\n",
       "    <tr>\n",
       "      <th>7</th>\n",
       "      <td>A</td>\n",
       "      <td>15</td>\n",
       "      <td>0</td>\n",
       "      <td>0.534942</td>\n",
       "      <td>99</td>\n",
       "      <td>2</td>\n",
       "      <td>5.0</td>\n",
       "      <td>1.0</td>\n",
       "      <td>4.0</td>\n",
       "      <td>0.239411</td>\n",
       "      <td>2</td>\n",
       "    </tr>\n",
       "    <tr>\n",
       "      <th>8</th>\n",
       "      <td>A</td>\n",
       "      <td>16</td>\n",
       "      <td>0</td>\n",
       "      <td>0.523708</td>\n",
       "      <td>99</td>\n",
       "      <td>3</td>\n",
       "      <td>4.0</td>\n",
       "      <td>2.0</td>\n",
       "      <td>3.0</td>\n",
       "      <td>0.239411</td>\n",
       "      <td>3</td>\n",
       "    </tr>\n",
       "    <tr>\n",
       "      <th>9</th>\n",
       "      <td>A</td>\n",
       "      <td>17</td>\n",
       "      <td>0</td>\n",
       "      <td>0.311366</td>\n",
       "      <td>99</td>\n",
       "      <td>4</td>\n",
       "      <td>3.0</td>\n",
       "      <td>3.0</td>\n",
       "      <td>2.0</td>\n",
       "      <td>0.239411</td>\n",
       "      <td>4</td>\n",
       "    </tr>\n",
       "    <tr>\n",
       "      <th>10</th>\n",
       "      <td>A</td>\n",
       "      <td>18</td>\n",
       "      <td>0</td>\n",
       "      <td>0.762107</td>\n",
       "      <td>99</td>\n",
       "      <td>5</td>\n",
       "      <td>2.0</td>\n",
       "      <td>4.0</td>\n",
       "      <td>1.0</td>\n",
       "      <td>0.239411</td>\n",
       "      <td>5</td>\n",
       "    </tr>\n",
       "  </tbody>\n",
       "</table>\n",
       "</div>"
      ],
      "text/plain": [
       "   country  time  event  proba_event  max_time_by_unit  since_treatment  \\\n",
       "0        A     8      0     0.065161                99                9   \n",
       "1        A     9      0     0.565006                99               10   \n",
       "2        A    10      0     0.300357                99               11   \n",
       "3        A    11      0     0.337803                99               12   \n",
       "4        A    12      0     0.399622                99               13   \n",
       "5        A    13      1     0.802764                99                0   \n",
       "6        A    14      0     0.227737                99                1   \n",
       "7        A    15      0     0.534942                99                2   \n",
       "8        A    16      0     0.523708                99                3   \n",
       "9        A    17      0     0.311366                99                4   \n",
       "10       A    18      0     0.762107                99                5   \n",
       "\n",
       "    until_treatment  since_treatment_1  until_treatment_-1  window_id  \\\n",
       "0               5.0                8.0                 4.0   0.239411   \n",
       "1               4.0                9.0                 3.0   0.239411   \n",
       "2               3.0               10.0                 2.0   0.239411   \n",
       "3               2.0               11.0                 1.0   0.239411   \n",
       "4               1.0               12.0                 0.0   0.239411   \n",
       "5               0.0               13.0                 6.0   0.239411   \n",
       "6               6.0                0.0                 5.0   0.239411   \n",
       "7               5.0                1.0                 4.0   0.239411   \n",
       "8               4.0                2.0                 3.0   0.239411   \n",
       "9               3.0                3.0                 2.0   0.239411   \n",
       "10              2.0                4.0                 1.0   0.239411   \n",
       "\n",
       "    window_t  \n",
       "0         -5  \n",
       "1         -4  \n",
       "2         -3  \n",
       "3         -2  \n",
       "4         -1  \n",
       "5          0  \n",
       "6          1  \n",
       "7          2  \n",
       "8          3  \n",
       "9          4  \n",
       "10         5  "
      ]
     },
     "execution_count": 5,
     "metadata": {},
     "output_type": "execute_result"
    }
   ],
   "source": [
    "wg.treated_windows.head(frame_size * 2 + 1)"
   ]
  },
  {
   "cell_type": "markdown",
   "metadata": {},
   "source": [
    "- max_time_by_unit, since_treatment, until_treatment, since_treatment_1, and until_treatment_-1 are all helper columns.\n",
    "- window_id is a unique identifier for each window generated\n",
    "- window_t is the timestep with respect to the event."
   ]
  },
  {
   "cell_type": "code",
   "execution_count": 6,
   "metadata": {},
   "outputs": [
    {
     "name": "stdout",
     "output_type": "stream",
     "text": [
      "There are 59 windows in our treated windows dataframe.\n"
     ]
    }
   ],
   "source": [
    "print(f'There are {wg.treated_windows.window_id.nunique()} windows in our treated windows dataframe.')"
   ]
  },
  {
   "cell_type": "markdown",
   "metadata": {},
   "source": [
    "Within each window there is also the same number of timesteps inside it. Because we initially selected frame_size=5, there are 5 timesteps before the event, the timestep of the event, and then five timesteps afterward:"
   ]
  },
  {
   "cell_type": "code",
   "execution_count": 7,
   "metadata": {},
   "outputs": [
    {
     "data": {
      "text/plain": [
       "window_t\n",
       "-5    59\n",
       "-4    59\n",
       "-3    59\n",
       "-2    59\n",
       "-1    59\n",
       " 0    59\n",
       " 1    59\n",
       " 2    59\n",
       " 3    59\n",
       " 4    59\n",
       " 5    59\n",
       "Name: count, dtype: int64"
      ]
     },
     "execution_count": 7,
     "metadata": {},
     "output_type": "execute_result"
    }
   ],
   "source": [
    "wg.treated_windows.window_t.value_counts()"
   ]
  },
  {
   "cell_type": "markdown",
   "metadata": {},
   "source": [
    "Buffer size controls whether or not we want to filter for events that don't have other events around them."
   ]
  },
  {
   "cell_type": "code",
   "execution_count": 8,
   "metadata": {},
   "outputs": [],
   "source": [
    "from window_generator import WindowGenerator\n",
    "\n",
    "# We initialize it with some parameters\n",
    "frame_size = 5\n",
    "wg_no_buffer = WindowGenerator(DataFrame=df, \n",
    "                unit_column='country', \n",
    "                time_column='time', \n",
    "                treatment_column='event', \n",
    "                matching_column='proba_event', \n",
    "                frame_size=frame_size,\n",
    "                buffer_size=0)\n",
    "\n",
    "wg_no_buffer.gen_treatment_windows()\n",
    "\n",
    "wg_buffer = WindowGenerator(DataFrame=df, \n",
    "                unit_column='country', \n",
    "                time_column='time', \n",
    "                treatment_column='event', \n",
    "                matching_column='proba_event', \n",
    "                frame_size=frame_size,\n",
    "                buffer_size=3)\n",
    "\n",
    "wg_buffer.gen_treatment_windows()"
   ]
  },
  {
   "cell_type": "markdown",
   "metadata": {},
   "source": [
    "Once we select a buffer size, this means that we restrict our treated sample to events that don't have events occuring within 3 timesteps."
   ]
  },
  {
   "cell_type": "code",
   "execution_count": 9,
   "metadata": {},
   "outputs": [
    {
     "name": "stdout",
     "output_type": "stream",
     "text": [
      "window timesteps with events when there isn't a buffer: [-5 -4 -3 -2 -1  0  1  2  3  4  5]\n",
      "window timesteps with events when there is a buffer: [-5 -4  0  4  5]\n"
     ]
    }
   ],
   "source": [
    "print(f\"window timesteps with events when there isn't a buffer: {wg_no_buffer.treated_windows.query('event == 1').window_t.sort_values().unique()}\") \n",
    "print(f\"window timesteps with events when there is a buffer: {wg_buffer.treated_windows.query('event == 1').window_t.sort_values().unique()}\") "
   ]
  },
  {
   "cell_type": "markdown",
   "metadata": {},
   "source": [
    "We can also select an asymmetrical frame size and buffer size. Instead of an integer, we pass a list where the first element is the left side and the second element is the right side of the window or buffer."
   ]
  },
  {
   "cell_type": "code",
   "execution_count": 10,
   "metadata": {},
   "outputs": [
    {
     "name": "stdout",
     "output_type": "stream",
     "text": [
      "window timesteps: [-3 -2 -1  0  1  2  3  4  5]\n",
      "window timesteps with events: [-3 -2  0  4  5]\n"
     ]
    }
   ],
   "source": [
    "wg = WindowGenerator(DataFrame=df, \n",
    "                unit_column='country', \n",
    "                time_column='time', \n",
    "                treatment_column='event', \n",
    "                matching_column='proba_event', \n",
    "                frame_size=[3, 5],\n",
    "                buffer_size=[1, 3],\n",
    "                method='nn_propensity_score')\n",
    "wg.gen_treatment_windows()\n",
    "\n",
    "print(f'window timesteps: {wg.treated_windows.window_t.unique()}') \n",
    "print(f'window timesteps with events: {wg.treated_windows.query('event == 1').window_t.sort_values().unique()}') "
   ]
  },
  {
   "cell_type": "markdown",
   "metadata": {},
   "source": [
    "## Generate matching control windows\n",
    "\n",
    "Let's take a look at how WindowGenerator can create matching control windows.\n",
    "\n",
    "gen_control_windows finds the **k**-nearest neighbors in the control propensity scores for each event propensity score, \n",
    "considering a distance threshold **d** \n",
    "and a maximum usage threshold **t** for each control observation.\n",
    "\n",
    "- k (int): The number of nearest neighbors to find.\n",
    "- d (float): The maximum distance threshold. Neighbors with a distance larger than this are not considered.\n",
    "- t (int): The maximum number of times a control observation can be used as a neighbor.\n",
    "\n"
   ]
  },
  {
   "cell_type": "code",
   "execution_count": 11,
   "metadata": {},
   "outputs": [],
   "source": [
    "wg = WindowGenerator(DataFrame=df, \n",
    "                unit_column='country', \n",
    "                time_column='time', \n",
    "                treatment_column='event', \n",
    "                matching_column='proba_event', \n",
    "                frame_size=5,\n",
    "                buffer_size=3,\n",
    "                method='nn_propensity_score')\n",
    "wg.gen_treatment_windows()\n",
    "\n",
    "wg.gen_control_windows(buffer_size=5, # This means each window will not have any events.\n",
    "                       k=2, # 2 control neighbors per treated observation\n",
    "                       d=.2, # The maximum propensity score distance between a treated observation and its corresponding untreated observation.\n",
    "                       t=10, # Can use a control observation up to 10 times.\n",
    "                       )\n",
    "wg.combine_groups() # this combines wg.treated_windows and wg.control_windows in to wg.windows."
   ]
  },
  {
   "cell_type": "code",
   "execution_count": 12,
   "metadata": {},
   "outputs": [
    {
     "data": {
      "text/plain": [
       "window_t\n",
       "-5    0.0\n",
       "-4    0.0\n",
       "-3    0.0\n",
       "-2    0.0\n",
       "-1    0.0\n",
       " 0    0.0\n",
       " 1    0.0\n",
       " 2    0.0\n",
       " 3    0.0\n",
       " 4    0.0\n",
       " 5    0.0\n",
       "Name: event, dtype: float64"
      ]
     },
     "execution_count": 12,
     "metadata": {},
     "output_type": "execute_result"
    }
   ],
   "source": [
    "wg.control_windows.groupby('window_t').event.mean()"
   ]
  },
  {
   "cell_type": "code",
   "execution_count": 13,
   "metadata": {},
   "outputs": [
    {
     "data": {
      "text/plain": [
       "<Axes: xlabel='proba_event', ylabel='Percent'>"
      ]
     },
     "execution_count": 13,
     "metadata": {},
     "output_type": "execute_result"
    },
    {
     "data": {
      "image/png": "[encoded data removed]",
      "text/plain": [
       "<Figure size 640x480 with 1 Axes>"
      ]
     },
     "metadata": {},
     "output_type": "display_data"
    }
   ],
   "source": [
    "import seaborn as sns\n",
    "\n",
    "sns.histplot(wg.windows.query('window_t == 0'), x= 'proba_event', hue='treated', stat='percent', common_norm=False, bins=50)"
   ]
  },
  {
   "cell_type": "markdown",
   "metadata": {},
   "source": [
    "If there isn't enough support for a treated observation according to the parameters specified, it will be dropped."
   ]
  },
  {
   "cell_type": "code",
   "execution_count": 14,
   "metadata": {},
   "outputs": [
    {
     "name": "stdout",
     "output_type": "stream",
     "text": [
      "There are 3 treated observations that do not have support and their windows are being dropped. The following are a sample:\n",
      "   country  time  proba_event\n",
      "82       B    71     0.844744\n",
      "93       B    85     0.899622\n",
      "16       A    46     0.674491\n"
     ]
    }
   ],
   "source": [
    "wg.gen_control_windows(buffer_size=5,\n",
    "                       k=2, # 2 control neighbors per treated observation\n",
    "                       d=.05, # The maximum propensity score distance between a treated observation and its corresponding untreated observation.\n",
    "                       t=3, # Can use a control observation up to 3 times.\n",
    "                       )\n",
    "wg.combine_groups()"
   ]
  }
 ],
 "metadata": {
  "kernelspec": {
   "display_name": ".venv",
   "language": "python",
   "name": "python3"
  },
  "language_info": {
   "codemirror_mode": {
    "name": "ipython",
    "version": 3
   },
   "file_extension": ".py",
   "mimetype": "text/x-python",
   "name": "python",
   "nbconvert_exporter": "python",
   "pygments_lexer": "ipython3",
   "version": "3.13.1"
  }
 },
 "nbformat": 4,
 "nbformat_minor": 2
}
